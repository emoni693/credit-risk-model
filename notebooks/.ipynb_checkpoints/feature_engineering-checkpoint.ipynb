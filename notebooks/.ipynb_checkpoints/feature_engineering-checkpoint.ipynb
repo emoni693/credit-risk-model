{
 "cells": [
  {
   "cell_type": "code",
   "execution_count": 25,
   "id": "8da031b3",
   "metadata": {
    "vscode": {
     "languageId": "plaintext"
    }
   },
   "outputs": [
    {
     "ename": "NameError",
     "evalue": "name 'df' is not defined",
     "output_type": "error",
     "traceback": [
      "\u001b[31m---------------------------------------------------------------------------\u001b[39m",
      "\u001b[31mNameError\u001b[39m                                 Traceback (most recent call last)",
      "\u001b[36mCell\u001b[39m\u001b[36m \u001b[39m\u001b[32mIn[25]\u001b[39m\u001b[32m, line 11\u001b[39m\n\u001b[32m      9\u001b[39m \u001b[38;5;66;03m# Load your data\u001b[39;00m\n\u001b[32m     10\u001b[39m raw_df = pd.read_csv(\u001b[33m\"\u001b[39m\u001b[33m../data/data.csv\u001b[39m\u001b[33m\"\u001b[39m)\n\u001b[32m---> \u001b[39m\u001b[32m11\u001b[39m \u001b[43mdf\u001b[49m[\u001b[33m\"\u001b[39m\u001b[33mcustomerid\u001b[39m\u001b[33m\"\u001b[39m]\n\u001b[32m     13\u001b[39m raw_df.columns = raw_df.columns.str.lower()\n\u001b[32m     15\u001b[39m \u001b[38;5;28mprint\u001b[39m(raw_df.columns)\n",
      "\u001b[31mNameError\u001b[39m: name 'df' is not defined"
     ]
    }
   ],
   "source": [
    "import sys\n",
    "import os\n",
    "\n",
    "# Add the root project directory to the path\n",
    "sys.path.append(os.path.abspath(\"..\"))  # If you're in notebooks/\n",
    "import pandas as pd\n",
    "from src.data_processing import build_pipeline\n",
    "\n",
    "# Load your data\n",
    "raw_df = pd.read_csv(\"../data/data.csv\")\n",
    "\n",
    "raw_df.columns = raw_df.columns.str.lower()\n",
    "\n",
    "print(raw_df.columns)\n",
    "\n",
    "# Convert date column\n",
    "raw_df[\"transactionstarttime\"] = pd.to_datetime(raw_df[\"transactionstarttime\"])\n",
    "\n",
    "# Define snapshot date (1 day after the latest transaction)\n",
    "snapshot_date = raw_df[\"transactionstarttime\"].max() + pd.Timedelta(days=1)\n",
    "\n",
    "# Calculate RFM metrics\n",
    "rfm = raw_df.groupby(\"customerid\").agg({\n",
    "    \"transactionstarttime\": lambda x: (snapshot_date - x.max()).days,  # Recency\n",
    "    \"customerid\": \"count\",  # Frequency\n",
    "    \"value\": \"sum\"          # Monetary\n",
    "})\n",
    "\n",
    "# Rename columns\n",
    "rfm.columns = [\"recency\", \"frequency\", \"monetary\"]\n",
    "rfm = rfm.reset_index()\n",
    "\n",
    "print(rfm.head())\n",
    "\n",
    "\n",
    "# Run pipeline\n",
    "pipeline = build_pipeline()\n",
    "processed_df = pipeline.fit_transform(raw_df)\n",
    "\n",
    "processed_df.head()\n",
    "print(raw_df.columns)\n",
    "\n",
    "# import pandas as pd\n",
    "# from src.data_processing import build_pipeline\n",
    "\n",
    "# # Load the raw dataset\n",
    "# raw_df = pd.read_csv(\"data/data.csv\")\n",
    "\n",
    "# # Apply the pipeline\n",
    "# pipeline = build_pipeline()\n",
    "# processed_df = pipeline.fit_transform(raw_df)\n",
    "\n"
   ]
  },
  {
   "cell_type": "code",
   "execution_count": null,
   "id": "5f888283-2743-4904-8895-7c1771abc377",
   "metadata": {},
   "outputs": [],
   "source": []
  }
 ],
 "metadata": {
  "kernelspec": {
   "display_name": "Python 3 (ipykernel)",
   "language": "python",
   "name": "python3"
  },
  "language_info": {
   "codemirror_mode": {
    "name": "ipython",
    "version": 3
   },
   "file_extension": ".py",
   "mimetype": "text/x-python",
   "name": "python",
   "nbconvert_exporter": "python",
   "pygments_lexer": "ipython3",
   "version": "3.12.7"
  }
 },
 "nbformat": 4,
 "nbformat_minor": 5
}
